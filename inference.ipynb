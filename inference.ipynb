{
 "cells": [
  {
   "cell_type": "code",
   "execution_count": null,
   "metadata": {},
   "outputs": [],
   "source": [
    "import pandas as pd\n",
    "import torch\n",
    "import matplotlib.pyplot as plt"
   ]
  },
  {
   "cell_type": "code",
   "execution_count": null,
   "metadata": {},
   "outputs": [],
   "source": [
    "def weighted_mean(x, w):\n",
    "    return sum([x[i]*w[i] for i in range(len(x))])/sum(w)"
   ]
  },
  {
   "cell_type": "code",
   "execution_count": null,
   "metadata": {},
   "outputs": [],
   "source": [
    "batter23 = pd.read_csv('batter_data_23NL.csv')\n",
    "pitcher23 = pd.read_csv('pitcher_data_23NL.csv')\n",
    "versus23 = pd.read_csv('versus_data_23NL.csv')\n",
    "sd_arith23 = torch.load(\"ckpt/vs_weighted_mean_23ML_3000.pt\")\n",
    "w_arith23 = sd_arith23[\"weight\"].item()"
   ]
  },
  {
   "cell_type": "code",
   "execution_count": null,
   "metadata": {},
   "outputs": [],
   "source": [
    "adjusted_arith_batter23 = []\n",
    "adjusted_arith_pitcher23 = []\n",
    "for i in range(len(batter23)):\n",
    "    pitcher_total = [pitcher23[\"total\"][j] for j in range(len(pitcher23))]\n",
    "    versus_avg = [weighted_mean([sd_arith23[\"v1\"][i], sd_arith23[\"v2\"][j]], [w_arith23, 1-w_arith23]) for j in range(len(pitcher23))]\n",
    "    adjusted_arith_batter23.append(weighted_mean(versus_avg, pitcher_total))\n",
    "for j in range(len(pitcher23)):\n",
    "    batter_total = [batter23[\"total\"][i] for i in range(len(batter23))]\n",
    "    versus_avg = [weighted_mean([sd_arith23[\"v1\"][i], sd_arith23[\"v2\"][j]], [w_arith23, 1-w_arith23]) for i in range(len(batter23))]\n",
    "    adjusted_arith_pitcher23.append(weighted_mean(versus_avg, batter_total))"
   ]
  },
  {
   "cell_type": "code",
   "execution_count": null,
   "metadata": {},
   "outputs": [],
   "source": [
    "batter23[\"adjusted_arith\"] = adjusted_arith_batter23\n",
    "pitcher23[\"adjusted_arith\"] = adjusted_arith_pitcher23"
   ]
  },
  {
   "cell_type": "code",
   "execution_count": null,
   "metadata": {},
   "outputs": [],
   "source": [
    "batter23_over150 = [batter23[\"batter\"][i] for i in range(len(batter23)) if batter23[\"total\"][i]>=150]\n",
    "batter23_over150_index = [i for i in range(len(batter23)) if batter23[\"total\"][i]>=150]\n",
    "pitcher23_over150 = [pitcher23[\"pitcher\"][i] for i in range(len(pitcher23)) if pitcher23[\"total\"][i]>=150]\n",
    "pitcher23_over150_index = [i for i in range(len(pitcher23)) if pitcher23[\"total\"][i]>=150]"
   ]
  },
  {
   "cell_type": "code",
   "execution_count": null,
   "metadata": {},
   "outputs": [],
   "source": [
    "t = [batter23[\"total\"][i] for i in batter23_over150_index]\n",
    "x = [batter23[\"obp\"][i] for i in batter23_over150_index]\n",
    "z = [sd_arith23[\"v1\"][i] for i in batter23_over150_index]\n",
    "z2 = [batter23[\"adjusted_arith\"][i] for i in batter23_over150_index]"
   ]
  },
  {
   "cell_type": "code",
   "execution_count": null,
   "metadata": {},
   "outputs": [],
   "source": [
    "gap = [[batter23_over150[i],z2[i], batter23_over150_index[i],z[i]] for i in range(len(x))]\n",
    "gap.sort(key=lambda x:-x[1])\n",
    "print(gap[:10])\n",
    "gap.sort(key=lambda x:x[1])\n",
    "print(gap[:10])"
   ]
  },
  {
   "cell_type": "code",
   "execution_count": null,
   "metadata": {},
   "outputs": [],
   "source": [
    "batter_data_seperated_by_total50 = {}\n",
    "for i in range(len(t)):\n",
    "    b = (t[i]-50)//100\n",
    "    if(b not in batter_data_seperated_by_total50):\n",
    "        batter_data_seperated_by_total50[b] = []\n",
    "    batter_data_seperated_by_total50[b].append(float(gap[i][1]))\n",
    "\n",
    "plt.clf()\n",
    "fig, ax = plt.subplots()\n",
    "ax.boxplot([batter_data_seperated_by_total50[i] for i in range(6)])\n",
    "ax.set_xticklabels([str(i*100+50)+\"~\"+str(i*100+149) for i in range(6)])\n",
    "ax.set_xlabel(\"AB\")\n",
    "ax.set_ylabel(\"Adjusted AVG - Original AVG\")\n",
    "\n",
    "plt.show()\n",
    "\n",
    "for i in range(6):\n",
    "    pd.DataFrame(batter_data_seperated_by_total50[i]).describe()"
   ]
  },
  {
   "cell_type": "code",
   "execution_count": null,
   "metadata": {},
   "outputs": [],
   "source": [
    "gap = [[pitcher23_over150[i],z2[i], pitcher23_over150_index[i],z[i]] for i in range(len(x))]\n",
    "gap.sort(key=lambda x:-x[1])\n",
    "print(gap[:10])\n",
    "gap.sort(key=lambda x:x[1])\n",
    "print(gap[:10])"
   ]
  },
  {
   "cell_type": "code",
   "execution_count": null,
   "metadata": {},
   "outputs": [],
   "source": [
    "pitcher_data_seperated_by_total50 = {}\n",
    "for i in range(len(t)):\n",
    "    b = (t[i]-50)//100\n",
    "    if(b not in pitcher_data_seperated_by_total50):\n",
    "        pitcher_data_seperated_by_total50[b] = []\n",
    "    pitcher_data_seperated_by_total50[b].append(float(gap[i][1]))\n",
    "    \n",
    "plt.clf()\n",
    "fig, ax = plt.subplots()\n",
    "ax.boxplot([pitcher_data_seperated_by_total50[i] for i in range(8)])\n",
    "ax.set_xticklabels([str(100*i+50)+\"~\"+str(i*100+149) for i in range(8)])\n",
    "ax.set_xlabel(\"AB\")\n",
    "ax.set_ylabel(\"Adjusted AVG - Original AVG\")\n",
    "plt.show()\n",
    "\n",
    "for i in range(8):\n",
    "    pd.DataFrame(pitcher_data_seperated_by_total50[i]).describe()"
   ]
  },
  {
   "cell_type": "code",
   "execution_count": null,
   "metadata": {},
   "outputs": [],
   "source": [
    "lowest_batter = 592273\n",
    "highest_batter = 656976\n",
    "lowest_against = []\n",
    "highest_against = []\n",
    "\n",
    "pitcher_to_obp = {pitcher23[\"pitcher\"][i]:pitcher23[\"obp\"][i] for i in range(len(pitcher23))}\n",
    "\n",
    "for i in range(len(versus23)):\n",
    "    if(versus23[\"batter\"][i]==lowest_batter):\n",
    "        for _ in range(versus23[\"total\"][i]):\n",
    "            lowest_against.append(versus23[\"pitcher\"][i])\n",
    "    if(versus23[\"batter\"][i]==highest_batter):\n",
    "        for _ in range(versus23[\"total\"][i]):\n",
    "            highest_against.append(versus23[\"pitcher\"][i])\n",
    "            \n",
    "lowest_against = [pitcher_to_obp[p] for p in lowest_against]\n",
    "highest_against = [pitcher_to_obp[p] for p in highest_against]\n",
    "\n",
    "lowest_against = pd.DataFrame(lowest_against)\n",
    "highest_against = pd.DataFrame(highest_against)\n",
    "\n",
    "print(lowest_against.describe())\n",
    "print(highest_against.describe())\n",
    "\n",
    "plt.clf()\n",
    "plt.hist(lowest_against, bins=20)\n",
    "plt.xlabel(\"pitcher's AVG\")\n",
    "plt.xlim(0.1, 0.4)\n",
    "plt.ylabel(\"frequency\")\n",
    "plt.savefig(\"lowest_against.png\")\n",
    "\n",
    "plt.clf()\n",
    "plt.hist(highest_against, bins=20)\n",
    "plt.xlabel(\"pitcher's AVG\")\n",
    "plt.xlim(0.1, 0.4)\n",
    "plt.ylabel(\"frequency\")\n",
    "plt.savefig(\"highest_against.png\")"
   ]
  }
 ],
 "metadata": {
  "language_info": {
   "name": "python"
  }
 },
 "nbformat": 4,
 "nbformat_minor": 2
}
